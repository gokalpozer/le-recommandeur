{
 "cells": [
  {
   "cell_type": "markdown",
   "metadata": {},
   "source": [
    "### This notebook contains code the final code of Le recommandeur. It can be used by the user for recommendation.\n",
    "\n",
    "### Contributors: Developed by Gökalp Özer with the help of Mete Mert Birdal and Abdullah Palaz"
   ]
  },
  {
   "cell_type": "code",
   "execution_count": null,
   "metadata": {},
   "outputs": [],
   "source": [
    "import pandas as pd\n",
    "import numpy as np\n",
    "import matplotlib.pyplot as plt\n",
    "%matplotlib inline\n",
    "\n",
    "from sklearn.metrics import accuracy_score\n",
    "from sklearn.model_selection import train_test_split\n",
    "from sklearn.preprocessing import LabelEncoder, StandardScaler\n",
    "\n",
    "import keras\n",
    "from keras import models\n",
    "from keras import layers\n",
    "\n",
    "import os\n",
    "from os import listdir\n",
    "from os.path import isfile, join"
   ]
  },
  {
   "cell_type": "code",
   "execution_count": null,
   "metadata": {
    "colab": {
     "base_uri": "https://localhost:8080/"
    },
    "id": "xDfiqnau_4_v",
    "outputId": "93bea05e-9fb4-4616-ebf9-fd0283235ba0",
    "scrolled": false
   },
   "outputs": [],
   "source": [
    "data = pd.read_csv('data.csv')\n",
    "\n",
    "print(\"**************************************************************\")\n",
    "print(\"*                                                            *\")\n",
    "print(\"* Welcome To The Le Recommandeur Music Recommendation System *\")\n",
    "print(\"*                                                            *\")\n",
    "print(\"**************************************************************\")\n",
    "\n",
    "random_number = int(input(\"Please Enter a Random Number: \"))\n",
    "data = data.sample(frac = 1, random_state = random_number).reset_index(drop=True)\n",
    "print(\"--------------------------------------------------------------\")\n",
    "\n",
    "print(\"Random 70 Songs For Rating:\")\n",
    "for i in range(70):\n",
    "    print(\"-\",data[\"song_name\"][i])\n",
    "\n",
    "print(\"--------------------------------------------------------------\")\n",
    "\n",
    "y = list(map(int, input(\"Please Rate The Given Songs as 0 and 1, Leaving a Space Between Each of Them(1 = I like it, 0 = I don't like it): \").split()))\n",
    "y = np.array(y)\n",
    "\n",
    "x = data.iloc[0:70, 1:]\n",
    "X_test = data.iloc[70:, 1:]\n",
    "#train-test split\n",
    "X_train, validation_x, y_train, validation_y = train_test_split(x,y,test_size=0.25)\n",
    "\n",
    "print(\"--------------------------------------------------------------\")\n",
    "\n",
    "print(\"Searching For The Most Suitable Songs For You According To The Ratings You Entered...\")\n",
    "\n",
    "# normalizing\n",
    "scaler = StandardScaler()\n",
    "X_train = scaler.fit_transform(X_train)\n",
    "validation_x = scaler.fit_transform(validation_x)\n",
    "X_test = scaler.fit_transform(X_test)\n",
    "\n",
    "model = models.Sequential()\n",
    "model.add(layers.Dense(20, activation='relu', input_shape=(X_train.shape[1],)))\n",
    "model.add(layers.Dense(1, activation='sigmoid'))\n",
    "\n",
    "model.compile(optimizer='adam',\n",
    "              loss='binary_crossentropy',\n",
    "              metrics=['accuracy'])\n",
    "\n",
    "history = model.fit(X_train,\n",
    "                    y_train,\n",
    "                    epochs=45,\n",
    "                    batch_size=4,\n",
    "                    validation_data=(validation_x, validation_y))\n",
    "\n",
    "print(\"--------------------------------------------------------------\")\n",
    "\n",
    "names = pd.DataFrame(data.iloc[70:, :1].values, columns = [\"song_names\"])\n",
    "values = pd.DataFrame(model.predict(X_test), columns = [\"values\"])\n",
    "recommend_df = pd.concat([names, values], axis=1).sort_values(\"values\", ascending=False).reset_index(drop=True)\n",
    "\n",
    "print(\"Recommended Songs:\")\n",
    "for i in range(10):\n",
    "    print(\"-\",recommend_df[\"song_names\"][i])"
   ]
  }
 ],
 "metadata": {
  "colab": {
   "collapsed_sections": [],
   "name": "Son_Model.ipynb",
   "provenance": []
  },
  "kernelspec": {
   "display_name": "Python 3 (ipykernel)",
   "language": "python",
   "name": "python3"
  },
  "language_info": {
   "codemirror_mode": {
    "name": "ipython",
    "version": 3
   },
   "file_extension": ".py",
   "mimetype": "text/x-python",
   "name": "python",
   "nbconvert_exporter": "python",
   "pygments_lexer": "ipython3",
   "version": "3.9.7"
  }
 },
 "nbformat": 4,
 "nbformat_minor": 1
}
