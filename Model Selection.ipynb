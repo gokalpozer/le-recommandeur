{
 "cells": [
  {
   "cell_type": "markdown",
   "metadata": {},
   "source": [
    "### This notebook contains code for model testing and selection.\n",
    "\n",
    "### Contributors: Developed by Gökalp Özer with the help of Mete Mert Birdal and Abdullah Palaz"
   ]
  },
  {
   "cell_type": "code",
   "execution_count": 1,
   "metadata": {
    "id": "n8lU-eEMLX07"
   },
   "outputs": [],
   "source": [
    "import pandas as pd\n",
    "import numpy as np\n",
    "import matplotlib.pyplot as plt\n",
    "%matplotlib inline\n",
    "\n",
    "from sklearn.model_selection import train_test_split\n",
    "from sklearn.preprocessing import LabelEncoder, StandardScaler\n",
    "\n",
    "import keras\n",
    "from keras import models\n",
    "from keras import layers\n",
    "import os\n",
    "from os import listdir\n",
    "from os.path import isfile, join\n",
    "from sklearn.metrics import accuracy_score"
   ]
  },
  {
   "cell_type": "code",
   "execution_count": 2,
   "metadata": {
    "colab": {
     "base_uri": "https://localhost:8080/",
     "height": 565
    },
    "id": "Cy_0zQo4La3J",
    "outputId": "81f2583c-6ced-4691-ed51-a10c17ccd3cc"
   },
   "outputs": [
    {
     "data": {
      "text/html": [
       "<div>\n",
       "<style scoped>\n",
       "    .dataframe tbody tr th:only-of-type {\n",
       "        vertical-align: middle;\n",
       "    }\n",
       "\n",
       "    .dataframe tbody tr th {\n",
       "        vertical-align: top;\n",
       "    }\n",
       "\n",
       "    .dataframe thead th {\n",
       "        text-align: right;\n",
       "    }\n",
       "</style>\n",
       "<table border=\"1\" class=\"dataframe\">\n",
       "  <thead>\n",
       "    <tr style=\"text-align: right;\">\n",
       "      <th></th>\n",
       "      <th>song_name</th>\n",
       "      <th>chroma_stft</th>\n",
       "      <th>rmse</th>\n",
       "      <th>spectral_centroid</th>\n",
       "      <th>spectral_bandwidth</th>\n",
       "      <th>rolloff</th>\n",
       "      <th>zero_crossing_rate</th>\n",
       "      <th>mfcc1</th>\n",
       "      <th>mfcc2</th>\n",
       "      <th>mfcc3</th>\n",
       "      <th>...</th>\n",
       "      <th>mfcc12</th>\n",
       "      <th>mfcc13</th>\n",
       "      <th>mfcc14</th>\n",
       "      <th>mfcc15</th>\n",
       "      <th>mfcc16</th>\n",
       "      <th>mfcc17</th>\n",
       "      <th>mfcc18</th>\n",
       "      <th>mfcc19</th>\n",
       "      <th>mfcc20</th>\n",
       "      <th>polarity</th>\n",
       "    </tr>\n",
       "  </thead>\n",
       "  <tbody>\n",
       "    <tr>\n",
       "      <th>0</th>\n",
       "      <td>3 Doors Down - Here Without You.mp3</td>\n",
       "      <td>0.289081</td>\n",
       "      <td>0.160753</td>\n",
       "      <td>1875.872919</td>\n",
       "      <td>2086.083922</td>\n",
       "      <td>3839.096230</td>\n",
       "      <td>0.080104</td>\n",
       "      <td>-120.545860</td>\n",
       "      <td>116.146255</td>\n",
       "      <td>-16.438173</td>\n",
       "      <td>...</td>\n",
       "      <td>-3.464103</td>\n",
       "      <td>-4.438722</td>\n",
       "      <td>-2.127836</td>\n",
       "      <td>-4.158795</td>\n",
       "      <td>2.548140</td>\n",
       "      <td>-8.946958</td>\n",
       "      <td>2.383594</td>\n",
       "      <td>-10.388559</td>\n",
       "      <td>-5.975074</td>\n",
       "      <td>1</td>\n",
       "    </tr>\n",
       "    <tr>\n",
       "      <th>1</th>\n",
       "      <td>Adam Lambert - Whataya Want from Me.mp3</td>\n",
       "      <td>0.355750</td>\n",
       "      <td>0.221183</td>\n",
       "      <td>2530.576767</td>\n",
       "      <td>2542.919690</td>\n",
       "      <td>5433.608810</td>\n",
       "      <td>0.106720</td>\n",
       "      <td>-65.254929</td>\n",
       "      <td>77.532669</td>\n",
       "      <td>-2.125923</td>\n",
       "      <td>...</td>\n",
       "      <td>3.356047</td>\n",
       "      <td>-0.555968</td>\n",
       "      <td>2.435497</td>\n",
       "      <td>-1.882958</td>\n",
       "      <td>-0.076031</td>\n",
       "      <td>-3.791277</td>\n",
       "      <td>2.699635</td>\n",
       "      <td>-1.652489</td>\n",
       "      <td>3.940006</td>\n",
       "      <td>1</td>\n",
       "    </tr>\n",
       "    <tr>\n",
       "      <th>2</th>\n",
       "      <td>Adele - Easy On Me.mp3</td>\n",
       "      <td>0.262327</td>\n",
       "      <td>0.181580</td>\n",
       "      <td>1918.322782</td>\n",
       "      <td>2243.506341</td>\n",
       "      <td>4388.587352</td>\n",
       "      <td>0.069737</td>\n",
       "      <td>-158.698792</td>\n",
       "      <td>119.309517</td>\n",
       "      <td>24.319859</td>\n",
       "      <td>...</td>\n",
       "      <td>2.845815</td>\n",
       "      <td>-3.271787</td>\n",
       "      <td>-3.322470</td>\n",
       "      <td>0.601871</td>\n",
       "      <td>-6.692018</td>\n",
       "      <td>-1.598950</td>\n",
       "      <td>7.785903</td>\n",
       "      <td>-1.588815</td>\n",
       "      <td>10.148050</td>\n",
       "      <td>1</td>\n",
       "    </tr>\n",
       "    <tr>\n",
       "      <th>3</th>\n",
       "      <td>Adele - Make You Feel My Love.mp3</td>\n",
       "      <td>0.292123</td>\n",
       "      <td>0.116284</td>\n",
       "      <td>1064.064225</td>\n",
       "      <td>1427.885838</td>\n",
       "      <td>1986.143546</td>\n",
       "      <td>0.046679</td>\n",
       "      <td>-222.517914</td>\n",
       "      <td>161.673782</td>\n",
       "      <td>2.692116</td>\n",
       "      <td>...</td>\n",
       "      <td>3.343680</td>\n",
       "      <td>-6.928495</td>\n",
       "      <td>1.509124</td>\n",
       "      <td>-4.121449</td>\n",
       "      <td>-11.299839</td>\n",
       "      <td>-4.258877</td>\n",
       "      <td>-2.200528</td>\n",
       "      <td>-4.374411</td>\n",
       "      <td>-1.815166</td>\n",
       "      <td>1</td>\n",
       "    </tr>\n",
       "    <tr>\n",
       "      <th>4</th>\n",
       "      <td>Alan Walker, Ava Max - Alone, Pt. II.mp3</td>\n",
       "      <td>0.338901</td>\n",
       "      <td>0.231402</td>\n",
       "      <td>2337.968667</td>\n",
       "      <td>2517.650456</td>\n",
       "      <td>4869.673332</td>\n",
       "      <td>0.102979</td>\n",
       "      <td>-78.251495</td>\n",
       "      <td>95.489693</td>\n",
       "      <td>-13.360953</td>\n",
       "      <td>...</td>\n",
       "      <td>2.130660</td>\n",
       "      <td>-7.129215</td>\n",
       "      <td>1.655985</td>\n",
       "      <td>-6.318650</td>\n",
       "      <td>1.480218</td>\n",
       "      <td>-0.576925</td>\n",
       "      <td>5.278685</td>\n",
       "      <td>-3.926069</td>\n",
       "      <td>6.590695</td>\n",
       "      <td>0</td>\n",
       "    </tr>\n",
       "  </tbody>\n",
       "</table>\n",
       "<p>5 rows × 28 columns</p>\n",
       "</div>"
      ],
      "text/plain": [
       "                                  song_name  chroma_stft      rmse  \\\n",
       "0       3 Doors Down - Here Without You.mp3     0.289081  0.160753   \n",
       "1   Adam Lambert - Whataya Want from Me.mp3     0.355750  0.221183   \n",
       "2                    Adele - Easy On Me.mp3     0.262327  0.181580   \n",
       "3         Adele - Make You Feel My Love.mp3     0.292123  0.116284   \n",
       "4  Alan Walker, Ava Max - Alone, Pt. II.mp3     0.338901  0.231402   \n",
       "\n",
       "   spectral_centroid  spectral_bandwidth      rolloff  zero_crossing_rate  \\\n",
       "0        1875.872919         2086.083922  3839.096230            0.080104   \n",
       "1        2530.576767         2542.919690  5433.608810            0.106720   \n",
       "2        1918.322782         2243.506341  4388.587352            0.069737   \n",
       "3        1064.064225         1427.885838  1986.143546            0.046679   \n",
       "4        2337.968667         2517.650456  4869.673332            0.102979   \n",
       "\n",
       "        mfcc1       mfcc2      mfcc3  ...    mfcc12    mfcc13    mfcc14  \\\n",
       "0 -120.545860  116.146255 -16.438173  ... -3.464103 -4.438722 -2.127836   \n",
       "1  -65.254929   77.532669  -2.125923  ...  3.356047 -0.555968  2.435497   \n",
       "2 -158.698792  119.309517  24.319859  ...  2.845815 -3.271787 -3.322470   \n",
       "3 -222.517914  161.673782   2.692116  ...  3.343680 -6.928495  1.509124   \n",
       "4  -78.251495   95.489693 -13.360953  ...  2.130660 -7.129215  1.655985   \n",
       "\n",
       "     mfcc15     mfcc16    mfcc17    mfcc18     mfcc19     mfcc20  polarity  \n",
       "0 -4.158795   2.548140 -8.946958  2.383594 -10.388559  -5.975074         1  \n",
       "1 -1.882958  -0.076031 -3.791277  2.699635  -1.652489   3.940006         1  \n",
       "2  0.601871  -6.692018 -1.598950  7.785903  -1.588815  10.148050         1  \n",
       "3 -4.121449 -11.299839 -4.258877 -2.200528  -4.374411  -1.815166         1  \n",
       "4 -6.318650   1.480218 -0.576925  5.278685  -3.926069   6.590695         0  \n",
       "\n",
       "[5 rows x 28 columns]"
      ]
     },
     "execution_count": 2,
     "metadata": {},
     "output_type": "execute_result"
    }
   ],
   "source": [
    "# reading dataset from csv\n",
    "\n",
    "data = pd.read_csv(\"data.csv\")\n",
    "data.head()"
   ]
  },
  {
   "cell_type": "code",
   "execution_count": 3,
   "metadata": {
    "colab": {
     "base_uri": "https://localhost:8080/",
     "height": 583
    },
    "id": "RTnJLihsLa5J",
    "outputId": "efd9a6cc-b410-485f-f3a1-44d31387921d"
   },
   "outputs": [
    {
     "data": {
      "text/html": [
       "<div>\n",
       "<style scoped>\n",
       "    .dataframe tbody tr th:only-of-type {\n",
       "        vertical-align: middle;\n",
       "    }\n",
       "\n",
       "    .dataframe tbody tr th {\n",
       "        vertical-align: top;\n",
       "    }\n",
       "\n",
       "    .dataframe thead th {\n",
       "        text-align: right;\n",
       "    }\n",
       "</style>\n",
       "<table border=\"1\" class=\"dataframe\">\n",
       "  <thead>\n",
       "    <tr style=\"text-align: right;\">\n",
       "      <th></th>\n",
       "      <th>song_name</th>\n",
       "      <th>chroma_stft</th>\n",
       "      <th>rmse</th>\n",
       "      <th>spectral_centroid</th>\n",
       "      <th>spectral_bandwidth</th>\n",
       "      <th>rolloff</th>\n",
       "      <th>zero_crossing_rate</th>\n",
       "      <th>mfcc1</th>\n",
       "      <th>mfcc2</th>\n",
       "      <th>mfcc3</th>\n",
       "      <th>...</th>\n",
       "      <th>mfcc12</th>\n",
       "      <th>mfcc13</th>\n",
       "      <th>mfcc14</th>\n",
       "      <th>mfcc15</th>\n",
       "      <th>mfcc16</th>\n",
       "      <th>mfcc17</th>\n",
       "      <th>mfcc18</th>\n",
       "      <th>mfcc19</th>\n",
       "      <th>mfcc20</th>\n",
       "      <th>polarity</th>\n",
       "    </tr>\n",
       "  </thead>\n",
       "  <tbody>\n",
       "    <tr>\n",
       "      <th>0</th>\n",
       "      <td>Bahamas, Madison Cunningham - Be My Witness (f...</td>\n",
       "      <td>0.342932</td>\n",
       "      <td>0.163363</td>\n",
       "      <td>1569.343678</td>\n",
       "      <td>1985.084157</td>\n",
       "      <td>3427.707051</td>\n",
       "      <td>0.059877</td>\n",
       "      <td>-148.713455</td>\n",
       "      <td>135.504669</td>\n",
       "      <td>11.027342</td>\n",
       "      <td>...</td>\n",
       "      <td>0.817397</td>\n",
       "      <td>-0.625243</td>\n",
       "      <td>1.664817</td>\n",
       "      <td>-2.294284</td>\n",
       "      <td>3.367950</td>\n",
       "      <td>-3.857531</td>\n",
       "      <td>-1.557467</td>\n",
       "      <td>-4.445862</td>\n",
       "      <td>0.289576</td>\n",
       "      <td>0</td>\n",
       "    </tr>\n",
       "    <tr>\n",
       "      <th>1</th>\n",
       "      <td>The Offspring - The Kids Aren't Alright.mp3</td>\n",
       "      <td>0.410226</td>\n",
       "      <td>0.235695</td>\n",
       "      <td>2432.832611</td>\n",
       "      <td>2344.959235</td>\n",
       "      <td>4965.686640</td>\n",
       "      <td>0.119506</td>\n",
       "      <td>-3.456875</td>\n",
       "      <td>90.056816</td>\n",
       "      <td>-25.072218</td>\n",
       "      <td>...</td>\n",
       "      <td>-2.072496</td>\n",
       "      <td>-7.041440</td>\n",
       "      <td>-2.466044</td>\n",
       "      <td>-7.760959</td>\n",
       "      <td>-2.373715</td>\n",
       "      <td>-8.303421</td>\n",
       "      <td>-0.855154</td>\n",
       "      <td>-4.360817</td>\n",
       "      <td>1.856898</td>\n",
       "      <td>0</td>\n",
       "    </tr>\n",
       "    <tr>\n",
       "      <th>2</th>\n",
       "      <td>Faith Hill - Breathe.mp3</td>\n",
       "      <td>0.324153</td>\n",
       "      <td>0.148818</td>\n",
       "      <td>2436.451795</td>\n",
       "      <td>2607.899245</td>\n",
       "      <td>5355.862058</td>\n",
       "      <td>0.111220</td>\n",
       "      <td>-127.268867</td>\n",
       "      <td>87.350380</td>\n",
       "      <td>3.662381</td>\n",
       "      <td>...</td>\n",
       "      <td>-3.161658</td>\n",
       "      <td>-7.834926</td>\n",
       "      <td>0.489897</td>\n",
       "      <td>-6.119314</td>\n",
       "      <td>0.637559</td>\n",
       "      <td>-5.098304</td>\n",
       "      <td>0.529420</td>\n",
       "      <td>-4.044796</td>\n",
       "      <td>-0.622057</td>\n",
       "      <td>0</td>\n",
       "    </tr>\n",
       "    <tr>\n",
       "      <th>3</th>\n",
       "      <td>The Skatalites - Eastern Standard Time.mp3</td>\n",
       "      <td>0.442773</td>\n",
       "      <td>0.123286</td>\n",
       "      <td>2396.140950</td>\n",
       "      <td>2252.489331</td>\n",
       "      <td>4762.382314</td>\n",
       "      <td>0.126297</td>\n",
       "      <td>-97.405205</td>\n",
       "      <td>82.513336</td>\n",
       "      <td>-27.231873</td>\n",
       "      <td>...</td>\n",
       "      <td>8.827895</td>\n",
       "      <td>-7.340616</td>\n",
       "      <td>5.602109</td>\n",
       "      <td>-2.157922</td>\n",
       "      <td>7.205108</td>\n",
       "      <td>-4.342024</td>\n",
       "      <td>4.456456</td>\n",
       "      <td>-3.218498</td>\n",
       "      <td>4.762727</td>\n",
       "      <td>0</td>\n",
       "    </tr>\n",
       "    <tr>\n",
       "      <th>4</th>\n",
       "      <td>Albert Collins - Blue Monday Hangover - Remast...</td>\n",
       "      <td>0.384747</td>\n",
       "      <td>0.133702</td>\n",
       "      <td>2171.121864</td>\n",
       "      <td>2217.921091</td>\n",
       "      <td>4447.700883</td>\n",
       "      <td>0.111578</td>\n",
       "      <td>-129.032272</td>\n",
       "      <td>93.447449</td>\n",
       "      <td>-8.623260</td>\n",
       "      <td>...</td>\n",
       "      <td>3.287340</td>\n",
       "      <td>-3.296253</td>\n",
       "      <td>1.308170</td>\n",
       "      <td>-3.502340</td>\n",
       "      <td>-0.205946</td>\n",
       "      <td>-5.999989</td>\n",
       "      <td>3.092426</td>\n",
       "      <td>-2.910830</td>\n",
       "      <td>2.285146</td>\n",
       "      <td>1</td>\n",
       "    </tr>\n",
       "  </tbody>\n",
       "</table>\n",
       "<p>5 rows × 28 columns</p>\n",
       "</div>"
      ],
      "text/plain": [
       "                                           song_name  chroma_stft      rmse  \\\n",
       "0  Bahamas, Madison Cunningham - Be My Witness (f...     0.342932  0.163363   \n",
       "1        The Offspring - The Kids Aren't Alright.mp3     0.410226  0.235695   \n",
       "2                           Faith Hill - Breathe.mp3     0.324153  0.148818   \n",
       "3         The Skatalites - Eastern Standard Time.mp3     0.442773  0.123286   \n",
       "4  Albert Collins - Blue Monday Hangover - Remast...     0.384747  0.133702   \n",
       "\n",
       "   spectral_centroid  spectral_bandwidth      rolloff  zero_crossing_rate  \\\n",
       "0        1569.343678         1985.084157  3427.707051            0.059877   \n",
       "1        2432.832611         2344.959235  4965.686640            0.119506   \n",
       "2        2436.451795         2607.899245  5355.862058            0.111220   \n",
       "3        2396.140950         2252.489331  4762.382314            0.126297   \n",
       "4        2171.121864         2217.921091  4447.700883            0.111578   \n",
       "\n",
       "        mfcc1       mfcc2      mfcc3  ...    mfcc12    mfcc13    mfcc14  \\\n",
       "0 -148.713455  135.504669  11.027342  ...  0.817397 -0.625243  1.664817   \n",
       "1   -3.456875   90.056816 -25.072218  ... -2.072496 -7.041440 -2.466044   \n",
       "2 -127.268867   87.350380   3.662381  ... -3.161658 -7.834926  0.489897   \n",
       "3  -97.405205   82.513336 -27.231873  ...  8.827895 -7.340616  5.602109   \n",
       "4 -129.032272   93.447449  -8.623260  ...  3.287340 -3.296253  1.308170   \n",
       "\n",
       "     mfcc15    mfcc16    mfcc17    mfcc18    mfcc19    mfcc20  polarity  \n",
       "0 -2.294284  3.367950 -3.857531 -1.557467 -4.445862  0.289576         0  \n",
       "1 -7.760959 -2.373715 -8.303421 -0.855154 -4.360817  1.856898         0  \n",
       "2 -6.119314  0.637559 -5.098304  0.529420 -4.044796 -0.622057         0  \n",
       "3 -2.157922  7.205108 -4.342024  4.456456 -3.218498  4.762727         0  \n",
       "4 -3.502340 -0.205946 -5.999989  3.092426 -2.910830  2.285146         1  \n",
       "\n",
       "[5 rows x 28 columns]"
      ]
     },
     "execution_count": 3,
     "metadata": {},
     "output_type": "execute_result"
    }
   ],
   "source": [
    "data = data.sample(frac = 1, random_state = 10).reset_index(drop=True)\n",
    "data.head()"
   ]
  },
  {
   "cell_type": "code",
   "execution_count": 4,
   "metadata": {
    "id": "LfiYirJmrs-m"
   },
   "outputs": [],
   "source": [
    "x = data.iloc[0:100, 1:]\n",
    "y = np.array([1,0,1,0,0,0,0,0,1,0,1,0,1,0,0,1,0,1,1,1,1,0,0,1,0,0,0,0,0,0,0,1,0,1,0,0,1,0,0,0,0,0,1,0,0,1,1,0,1,0,1,0,0,0,0,0,0,1,0,0,1,0,0,0,0,0,1,0,1,0,0,0,1,0,0,0,0,1,1,0,0,0,1,1,0,0,0,1,0,1,0,0,0,0,0,1,1,0,0,1])\n",
    "X_test = data.iloc[100:, 1:]\n",
    "#train-test split\n",
    "X_train, validation_x, y_train, validation_y = train_test_split(x,y,test_size=0.25)"
   ]
  },
  {
   "cell_type": "code",
   "execution_count": 5,
   "metadata": {
    "id": "WQ5QoOobLa_6"
   },
   "outputs": [],
   "source": [
    "# normalizing\n",
    "scaler = StandardScaler()\n",
    "X_train = scaler.fit_transform(X_train)\n",
    "validation_x = scaler.fit_transform(validation_x)\n",
    "X_test = scaler.fit_transform(X_test)"
   ]
  },
  {
   "cell_type": "code",
   "execution_count": 6,
   "metadata": {
    "colab": {
     "base_uri": "https://localhost:8080/"
    },
    "id": "kdTxyNjNLbCB",
    "outputId": "b8bb98e5-9d22-4393-d8d3-d59308bac51b"
   },
   "outputs": [
    {
     "name": "stdout",
     "output_type": "stream",
     "text": [
      "{0: 15, 1: 10}\n",
      "Accuracy : 0.52\n"
     ]
    }
   ],
   "source": [
    "from sklearn.neighbors import KNeighborsClassifier\n",
    "knn = KNeighborsClassifier(n_neighbors=1, metric=\"minkowski\")\n",
    "knn.fit(X_train, y_train)                             \n",
    "y_pred = knn.predict(validation_x)\n",
    "\n",
    "unique, counts = np.unique(y_pred, return_counts=True)\n",
    "print(dict(zip(unique, counts)))\n",
    "print(\"Accuracy :\", accuracy_score(validation_y, y_pred))"
   ]
  },
  {
   "cell_type": "code",
   "execution_count": 7,
   "metadata": {
    "colab": {
     "base_uri": "https://localhost:8080/"
    },
    "id": "JbIadR04LbET",
    "outputId": "ea08ec54-9888-403e-9438-3415a1fbb21a"
   },
   "outputs": [
    {
     "name": "stdout",
     "output_type": "stream",
     "text": [
      "{0: 23, 1: 2}\n",
      "Accuracy : 0.68\n"
     ]
    }
   ],
   "source": [
    "from sklearn.ensemble import RandomForestClassifier\n",
    "rfc = RandomForestClassifier(n_estimators=10)\n",
    "rfc.fit(X_train, y_train)\n",
    "y_pred = rfc.predict(validation_x)\n",
    "\n",
    "unique, counts = np.unique(y_pred, return_counts=True)\n",
    "print(dict(zip(unique, counts)))\n",
    "print(\"Accuracy :\", accuracy_score(validation_y, y_pred))"
   ]
  },
  {
   "cell_type": "code",
   "execution_count": 8,
   "metadata": {
    "colab": {
     "base_uri": "https://localhost:8080/"
    },
    "id": "BXJq4Z9cLbGZ",
    "outputId": "af0a9ddd-95a7-42ec-c6ff-cac2523d5678"
   },
   "outputs": [
    {
     "name": "stdout",
     "output_type": "stream",
     "text": [
      "{0: 18, 1: 7}\n",
      "Accuracy : 0.88\n"
     ]
    }
   ],
   "source": [
    "from sklearn.linear_model import LogisticRegression\n",
    "logr = LogisticRegression(random_state=0)\n",
    "logr.fit(X_train, y_train)\n",
    "y_pred = logr.predict(validation_x)\n",
    "\n",
    "unique, counts = np.unique(y_pred, return_counts=True)\n",
    "print(dict(zip(unique, counts)))\n",
    "print(\"Accuracy :\", accuracy_score(validation_y, y_pred))"
   ]
  },
  {
   "cell_type": "code",
   "execution_count": 9,
   "metadata": {
    "id": "qunAeB1oLbIp"
   },
   "outputs": [],
   "source": [
    "model = models.Sequential()\n",
    "model.add(layers.Dense(20, activation='relu', input_shape=(X_train.shape[1],)))\n",
    "model.add(layers.Dense(1, activation='sigmoid'))\n",
    "\n",
    "model.compile(optimizer='adam',\n",
    "              loss='binary_crossentropy',\n",
    "              metrics=['accuracy'])\n"
   ]
  },
  {
   "cell_type": "code",
   "execution_count": 10,
   "metadata": {
    "colab": {
     "base_uri": "https://localhost:8080/"
    },
    "id": "c_ioEy-bLbKy",
    "outputId": "0cf21990-3b30-4e58-dab9-84353b85889c"
   },
   "outputs": [
    {
     "name": "stdout",
     "output_type": "stream",
     "text": [
      "Epoch 1/40\n",
      "19/19 [==============================] - 0s 8ms/step - loss: 1.1371 - accuracy: 0.3733 - val_loss: 0.8185 - val_accuracy: 0.6000\n",
      "Epoch 2/40\n",
      "19/19 [==============================] - 0s 1ms/step - loss: 0.9991 - accuracy: 0.4133 - val_loss: 0.7426 - val_accuracy: 0.6800\n",
      "Epoch 3/40\n",
      "19/19 [==============================] - 0s 1ms/step - loss: 0.9013 - accuracy: 0.4400 - val_loss: 0.6814 - val_accuracy: 0.6800\n",
      "Epoch 4/40\n",
      "19/19 [==============================] - 0s 1ms/step - loss: 0.8144 - accuracy: 0.4800 - val_loss: 0.6406 - val_accuracy: 0.7200\n",
      "Epoch 5/40\n",
      "19/19 [==============================] - 0s 1ms/step - loss: 0.7514 - accuracy: 0.5867 - val_loss: 0.6068 - val_accuracy: 0.6800\n",
      "Epoch 6/40\n",
      "19/19 [==============================] - 0s 1ms/step - loss: 0.6954 - accuracy: 0.6267 - val_loss: 0.5798 - val_accuracy: 0.7200\n",
      "Epoch 7/40\n",
      "19/19 [==============================] - 0s 1ms/step - loss: 0.6451 - accuracy: 0.6933 - val_loss: 0.5613 - val_accuracy: 0.6800\n",
      "Epoch 8/40\n",
      "19/19 [==============================] - 0s 1ms/step - loss: 0.6069 - accuracy: 0.6933 - val_loss: 0.5491 - val_accuracy: 0.6800\n",
      "Epoch 9/40\n",
      "19/19 [==============================] - 0s 1ms/step - loss: 0.5726 - accuracy: 0.6933 - val_loss: 0.5366 - val_accuracy: 0.7600\n",
      "Epoch 10/40\n",
      "19/19 [==============================] - 0s 1ms/step - loss: 0.5443 - accuracy: 0.7200 - val_loss: 0.5283 - val_accuracy: 0.7200\n",
      "Epoch 11/40\n",
      "19/19 [==============================] - 0s 1ms/step - loss: 0.5180 - accuracy: 0.7733 - val_loss: 0.5207 - val_accuracy: 0.7200\n",
      "Epoch 12/40\n",
      "19/19 [==============================] - 0s 1ms/step - loss: 0.4957 - accuracy: 0.8133 - val_loss: 0.5170 - val_accuracy: 0.7200\n",
      "Epoch 13/40\n",
      "19/19 [==============================] - 0s 1ms/step - loss: 0.4776 - accuracy: 0.8267 - val_loss: 0.5134 - val_accuracy: 0.7200\n",
      "Epoch 14/40\n",
      "19/19 [==============================] - 0s 1ms/step - loss: 0.4617 - accuracy: 0.8267 - val_loss: 0.5066 - val_accuracy: 0.7200\n",
      "Epoch 15/40\n",
      "19/19 [==============================] - 0s 1ms/step - loss: 0.4481 - accuracy: 0.8133 - val_loss: 0.5036 - val_accuracy: 0.6800\n",
      "Epoch 16/40\n",
      "19/19 [==============================] - 0s 1ms/step - loss: 0.4358 - accuracy: 0.8267 - val_loss: 0.5011 - val_accuracy: 0.6800\n",
      "Epoch 17/40\n",
      "19/19 [==============================] - 0s 1ms/step - loss: 0.4234 - accuracy: 0.8133 - val_loss: 0.4999 - val_accuracy: 0.6800\n",
      "Epoch 18/40\n",
      "19/19 [==============================] - 0s 1ms/step - loss: 0.4130 - accuracy: 0.8133 - val_loss: 0.4963 - val_accuracy: 0.7200\n",
      "Epoch 19/40\n",
      "19/19 [==============================] - 0s 1ms/step - loss: 0.4020 - accuracy: 0.8133 - val_loss: 0.4954 - val_accuracy: 0.8000\n",
      "Epoch 20/40\n",
      "19/19 [==============================] - 0s 1ms/step - loss: 0.3916 - accuracy: 0.8133 - val_loss: 0.4932 - val_accuracy: 0.8000\n",
      "Epoch 21/40\n",
      "19/19 [==============================] - 0s 1ms/step - loss: 0.3824 - accuracy: 0.8267 - val_loss: 0.4915 - val_accuracy: 0.8000\n",
      "Epoch 22/40\n",
      "19/19 [==============================] - 0s 1ms/step - loss: 0.3736 - accuracy: 0.8400 - val_loss: 0.4937 - val_accuracy: 0.8000\n",
      "Epoch 23/40\n",
      "19/19 [==============================] - 0s 1ms/step - loss: 0.3641 - accuracy: 0.8400 - val_loss: 0.4914 - val_accuracy: 0.8000\n",
      "Epoch 24/40\n",
      "19/19 [==============================] - 0s 1ms/step - loss: 0.3553 - accuracy: 0.8533 - val_loss: 0.4909 - val_accuracy: 0.8000\n",
      "Epoch 25/40\n",
      "19/19 [==============================] - 0s 1ms/step - loss: 0.3470 - accuracy: 0.8667 - val_loss: 0.4909 - val_accuracy: 0.8000\n",
      "Epoch 26/40\n",
      "19/19 [==============================] - ETA: 0s - loss: 0.1710 - accuracy: 1.00 - 0s 1ms/step - loss: 0.3396 - accuracy: 0.8667 - val_loss: 0.4862 - val_accuracy: 0.8000\n",
      "Epoch 27/40\n",
      "19/19 [==============================] - 0s 1ms/step - loss: 0.3310 - accuracy: 0.8800 - val_loss: 0.4855 - val_accuracy: 0.8000\n",
      "Epoch 28/40\n",
      "19/19 [==============================] - 0s 1ms/step - loss: 0.3246 - accuracy: 0.8800 - val_loss: 0.4857 - val_accuracy: 0.8000\n",
      "Epoch 29/40\n",
      "19/19 [==============================] - 0s 1ms/step - loss: 0.3165 - accuracy: 0.8800 - val_loss: 0.4846 - val_accuracy: 0.8400\n",
      "Epoch 30/40\n",
      "19/19 [==============================] - 0s 1ms/step - loss: 0.3099 - accuracy: 0.8800 - val_loss: 0.4853 - val_accuracy: 0.8400\n",
      "Epoch 31/40\n",
      "19/19 [==============================] - 0s 1ms/step - loss: 0.3028 - accuracy: 0.8800 - val_loss: 0.4848 - val_accuracy: 0.8400\n",
      "Epoch 32/40\n",
      "19/19 [==============================] - 0s 1ms/step - loss: 0.2952 - accuracy: 0.8933 - val_loss: 0.4822 - val_accuracy: 0.8400\n",
      "Epoch 33/40\n",
      "19/19 [==============================] - ETA: 0s - loss: 0.4423 - accuracy: 0.75 - 0s 1ms/step - loss: 0.2897 - accuracy: 0.9067 - val_loss: 0.4809 - val_accuracy: 0.8400\n",
      "Epoch 34/40\n",
      "19/19 [==============================] - 0s 1ms/step - loss: 0.2826 - accuracy: 0.9067 - val_loss: 0.4808 - val_accuracy: 0.8400\n",
      "Epoch 35/40\n",
      "19/19 [==============================] - 0s 1ms/step - loss: 0.2773 - accuracy: 0.9200 - val_loss: 0.4789 - val_accuracy: 0.8400\n",
      "Epoch 36/40\n",
      "19/19 [==============================] - ETA: 0s - loss: 0.3694 - accuracy: 0.75 - 0s 1ms/step - loss: 0.2714 - accuracy: 0.9333 - val_loss: 0.4792 - val_accuracy: 0.8400\n",
      "Epoch 37/40\n",
      "19/19 [==============================] - 0s 1ms/step - loss: 0.2658 - accuracy: 0.9333 - val_loss: 0.4802 - val_accuracy: 0.8400\n",
      "Epoch 38/40\n",
      "19/19 [==============================] - 0s 1ms/step - loss: 0.2598 - accuracy: 0.9333 - val_loss: 0.4829 - val_accuracy: 0.8400\n",
      "Epoch 39/40\n",
      "19/19 [==============================] - 0s 1ms/step - loss: 0.2543 - accuracy: 0.9333 - val_loss: 0.4842 - val_accuracy: 0.8400\n",
      "Epoch 40/40\n",
      "19/19 [==============================] - 0s 1ms/step - loss: 0.2488 - accuracy: 0.9467 - val_loss: 0.4824 - val_accuracy: 0.8800\n"
     ]
    }
   ],
   "source": [
    "history = model.fit(X_train,\n",
    "                    y_train,\n",
    "                    epochs=40,\n",
    "                    batch_size=4,\n",
    "                    validation_data=(validation_x, validation_y))"
   ]
  },
  {
   "cell_type": "code",
   "execution_count": 11,
   "metadata": {
    "colab": {
     "base_uri": "https://localhost:8080/",
     "height": 545
    },
    "id": "hQGng6kiw0J-",
    "outputId": "faf2798f-f2fd-4399-ad9d-1f35e36b8b54"
   },
   "outputs": [
    {
     "data": {
      "image/png": "[encoded data removed]",
      "text/plain": [
       "<Figure size 432x288 with 1 Axes>"
      ]
     },
     "metadata": {
      "needs_background": "light"
     },
     "output_type": "display_data"
    }
   ],
   "source": [
    "accuracy = history.history['accuracy']\n",
    "val_accuracy = history.history['val_accuracy']\n",
    "loss = history.history['loss']\n",
    "val_loss = history.history['val_loss']\n",
    "epochs = range(int(len(accuracy)))\n",
    "plt.plot(epochs, accuracy, 'bo', label='Training accuracy', color='purple')\n",
    "plt.plot(epochs, val_accuracy, 'b', label='Validation accuracy', color='gold')\n",
    "plt.ylabel(\"Accuracy\")\n",
    "plt.xlabel(\"Epochs\")\n",
    "plt.legend()\n",
    "plt.savefig('accuracy.png', bbox_inches=\"tight\")\n",
    "plt.show()"
   ]
  },
  {
   "cell_type": "code",
   "execution_count": 12,
   "metadata": {},
   "outputs": [
    {
     "data": {
      "image/png": "[encoded data removed]",
      "text/plain": [
       "<Figure size 432x288 with 1 Axes>"
      ]
     },
     "metadata": {
      "needs_background": "light"
     },
     "output_type": "display_data"
    }
   ],
   "source": [
    "plt.figure()\n",
    "plt.plot(epochs, loss, 'bo', label='Training loss', color='purple')\n",
    "plt.plot(epochs, val_loss, 'b', label='Validation loss', color='gold')\n",
    "plt.legend()\n",
    "plt.ylabel(\"Loss\")\n",
    "plt.xlabel(\"Epochs\")\n",
    "plt.savefig('loss.png', bbox_inches=\"tight\")\n",
    "plt.show()"
   ]
  },
  {
   "cell_type": "code",
   "execution_count": 13,
   "metadata": {},
   "outputs": [
    {
     "data": {
      "text/plain": [
       "Text(0.5, 1.0, 'Training and validation loss')"
      ]
     },
     "execution_count": 13,
     "metadata": {},
     "output_type": "execute_result"
    },
    {
     "data": {
      "image/png": "[encoded data removed]",
      "text/plain": [
       "<Figure size 432x288 with 1 Axes>"
      ]
     },
     "metadata": {
      "needs_background": "light"
     },
     "output_type": "display_data"
    }
   ],
   "source": [
    "plt.title('Training and validation accuracy')\n",
    "plt.title('Training and validation loss')"
   ]
  },
  {
   "cell_type": "code",
   "execution_count": 14,
   "metadata": {
    "colab": {
     "base_uri": "https://localhost:8080/",
     "height": 424
    },
    "id": "MBvgaGexNzbC",
    "outputId": "a84fbc54-06e9-4537-a83f-2df91f454011"
   },
   "outputs": [
    {
     "data": {
      "text/html": [
       "<div>\n",
       "<style scoped>\n",
       "    .dataframe tbody tr th:only-of-type {\n",
       "        vertical-align: middle;\n",
       "    }\n",
       "\n",
       "    .dataframe tbody tr th {\n",
       "        vertical-align: top;\n",
       "    }\n",
       "\n",
       "    .dataframe thead th {\n",
       "        text-align: right;\n",
       "    }\n",
       "</style>\n",
       "<table border=\"1\" class=\"dataframe\">\n",
       "  <thead>\n",
       "    <tr style=\"text-align: right;\">\n",
       "      <th></th>\n",
       "      <th>song_names</th>\n",
       "      <th>values</th>\n",
       "    </tr>\n",
       "  </thead>\n",
       "  <tbody>\n",
       "    <tr>\n",
       "      <th>0</th>\n",
       "      <td>Doja Cat, SZA - Kiss Me More (feat. SZA).mp3</td>\n",
       "      <td>0.996890</td>\n",
       "    </tr>\n",
       "    <tr>\n",
       "      <th>1</th>\n",
       "      <td>Bruce Springsteen - Santa Claus Is Comin' to T...</td>\n",
       "      <td>0.990031</td>\n",
       "    </tr>\n",
       "    <tr>\n",
       "      <th>2</th>\n",
       "      <td>Taylor Swift - Blank Space.mp3</td>\n",
       "      <td>0.986656</td>\n",
       "    </tr>\n",
       "    <tr>\n",
       "      <th>3</th>\n",
       "      <td>B.o.B, Bruno Mars - Nothin' on You (feat. Brun...</td>\n",
       "      <td>0.984559</td>\n",
       "    </tr>\n",
       "    <tr>\n",
       "      <th>4</th>\n",
       "      <td>BENEE, Gus Dapperton - Supalonely (feat. Gus D...</td>\n",
       "      <td>0.982382</td>\n",
       "    </tr>\n",
       "    <tr>\n",
       "      <th>...</th>\n",
       "      <td>...</td>\n",
       "      <td>...</td>\n",
       "    </tr>\n",
       "    <tr>\n",
       "      <th>1536</th>\n",
       "      <td>Nick Drake - Pink Moon.mp3</td>\n",
       "      <td>0.001910</td>\n",
       "    </tr>\n",
       "    <tr>\n",
       "      <th>1537</th>\n",
       "      <td>Kansas - Dust in the Wind.mp3</td>\n",
       "      <td>0.001488</td>\n",
       "    </tr>\n",
       "    <tr>\n",
       "      <th>1538</th>\n",
       "      <td>Bob Dylan - Shelter from the Storm.mp3</td>\n",
       "      <td>0.001486</td>\n",
       "    </tr>\n",
       "    <tr>\n",
       "      <th>1539</th>\n",
       "      <td>Stealers Wheel - Stuck In The Middle With You.mp3</td>\n",
       "      <td>0.001450</td>\n",
       "    </tr>\n",
       "    <tr>\n",
       "      <th>1540</th>\n",
       "      <td>Desmond Dekker - 007 (Shanty Town).mp3</td>\n",
       "      <td>0.001330</td>\n",
       "    </tr>\n",
       "  </tbody>\n",
       "</table>\n",
       "<p>1541 rows × 2 columns</p>\n",
       "</div>"
      ],
      "text/plain": [
       "                                             song_names    values\n",
       "0          Doja Cat, SZA - Kiss Me More (feat. SZA).mp3  0.996890\n",
       "1     Bruce Springsteen - Santa Claus Is Comin' to T...  0.990031\n",
       "2                        Taylor Swift - Blank Space.mp3  0.986656\n",
       "3     B.o.B, Bruno Mars - Nothin' on You (feat. Brun...  0.984559\n",
       "4     BENEE, Gus Dapperton - Supalonely (feat. Gus D...  0.982382\n",
       "...                                                 ...       ...\n",
       "1536                         Nick Drake - Pink Moon.mp3  0.001910\n",
       "1537                      Kansas - Dust in the Wind.mp3  0.001488\n",
       "1538             Bob Dylan - Shelter from the Storm.mp3  0.001486\n",
       "1539  Stealers Wheel - Stuck In The Middle With You.mp3  0.001450\n",
       "1540             Desmond Dekker - 007 (Shanty Town).mp3  0.001330\n",
       "\n",
       "[1541 rows x 2 columns]"
      ]
     },
     "execution_count": 14,
     "metadata": {},
     "output_type": "execute_result"
    }
   ],
   "source": [
    "names = pd.DataFrame(data.iloc[100:, :1].values, columns = [\"song_names\"])\n",
    "values = pd.DataFrame(model.predict(X_test), columns = [\"values\"])\n",
    "recommend_df = pd.concat([names, values], axis=1).sort_values(\"values\", ascending=False).reset_index(drop=True)\n",
    "recommend_df"
   ]
  },
  {
   "cell_type": "code",
   "execution_count": 15,
   "metadata": {
    "colab": {
     "base_uri": "https://localhost:8080/"
    },
    "id": "4cQPuKoUNzl7",
    "outputId": "255089db-1627-4eac-985b-4b448efff629"
   },
   "outputs": [
    {
     "name": "stdout",
     "output_type": "stream",
     "text": [
      "RECOMMENDED SONGS:\n",
      "Doja Cat, SZA - Kiss Me More (feat. SZA).mp3\n",
      "Bruce Springsteen - Santa Claus Is Comin' to Town - Live at C.W. Post College, Greenvale, NY - December 1975.mp3\n",
      "Taylor Swift - Blank Space.mp3\n",
      "B.o.B, Bruno Mars - Nothin' on You (feat. Bruno Mars).mp3\n",
      "BENEE, Gus Dapperton - Supalonely (feat. Gus Dapperton).mp3\n",
      "Florence + The Machine - Dog Days Are Over.mp3\n",
      "Doja Cat - Need to Know.mp3\n",
      "Mischa Daniels, Crown - Another Place - Radio Edit.mp3\n",
      "Ava Max - Salt.mp3\n",
      "Sonny Clark - Cool Struttin'.mp3\n"
     ]
    }
   ],
   "source": [
    "print(\"RECOMMENDED SONGS:\")\n",
    "for i in range(10):\n",
    "    print(recommend_df[\"song_names\"][i])"
   ]
  },
  {
   "cell_type": "code",
   "execution_count": 16,
   "metadata": {
    "id": "_GYrPo3NtVJe"
   },
   "outputs": [],
   "source": [
    "from sklearn.inspection import permutation_importance"
   ]
  },
  {
   "cell_type": "markdown",
   "metadata": {
    "id": "zrW9nWW-dHea"
   },
   "source": [
    "**Permutation Feature Importance**"
   ]
  },
  {
   "cell_type": "code",
   "execution_count": 17,
   "metadata": {
    "colab": {
     "base_uri": "https://localhost:8080/",
     "height": 734
    },
    "id": "9Bv7skF_WIU6",
    "outputId": "00d42f55-7479-4bef-f970-526dfe836aca"
   },
   "outputs": [
    {
     "name": "stdout",
     "output_type": "stream",
     "text": [
      "Feature: chroma_stft, Score: 0.010145411359851328\n",
      "Feature: rmse, Score: 0.017308461520089503\n",
      "Feature: spectral_centroid, Score: 0.009757009386183128\n",
      "Feature: spectral_bandwidth, Score: 0.0050981552882547465\n",
      "Feature: rolloff, Score: 0.020648763730369522\n",
      "Feature: zero_crossing_rate, Score: 0.0035727729697960205\n",
      "Feature: mfcc1, Score: 0.008692824412716921\n",
      "Feature: mfcc2, Score: 0.005661350336499055\n",
      "Feature: mfcc3, Score: 0.01617584475390659\n",
      "Feature: mfcc4, Score: 0.018467386839170652\n",
      "Feature: mfcc5, Score: 0.011058826010984063\n",
      "Feature: mfcc6, Score: 0.017024576733580463\n",
      "Feature: mfcc7, Score: 0.00729596492002293\n",
      "Feature: mfcc8, Score: 0.022701454567970892\n",
      "Feature: mfcc9, Score: 0.009392833654046442\n",
      "Feature: mfcc10, Score: 0.01676707233712979\n",
      "Feature: mfcc11, Score: 0.009079977864371789\n",
      "Feature: mfcc12, Score: 0.008123015401539629\n",
      "Feature: mfcc13, Score: 0.00790023461419564\n",
      "Feature: mfcc14, Score: 0.015329550983205268\n",
      "Feature: mfcc15, Score: 0.014582031362837092\n",
      "Feature: mfcc16, Score: 0.01813625477279981\n",
      "Feature: mfcc17, Score: 0.012856466313862789\n",
      "Feature: mfcc18, Score: 0.009467075386964965\n",
      "Feature: mfcc19, Score: 0.0160533805599628\n",
      "Feature: mfcc20, Score: 0.01693345589666988\n",
      "Feature: polarity, Score: 0.01131749983959875\n"
     ]
    }
   ],
   "source": [
    "# perform permutation importance\n",
    "results = permutation_importance(model, X_train, y_train, scoring='neg_mean_squared_error')\n",
    "# get importance\n",
    "importance = results.importances_mean\n",
    "\n",
    "column_names = list(x.columns)\n",
    "\n",
    "for i in range(len(importance)):\n",
    "    print(\"Feature: {}, Score: {}\".format(column_names[i],importance[i]))\n"
   ]
  },
  {
   "cell_type": "code",
   "execution_count": 39,
   "metadata": {},
   "outputs": [
    {
     "data": {
      "image/png": "[encoded data removed]",
      "text/plain": [
       "<Figure size 720x720 with 1 Axes>"
      ]
     },
     "metadata": {
      "needs_background": "light"
     },
     "output_type": "display_data"
    }
   ],
   "source": [
    "# plot feature importance\n",
    "plt.figure(figsize=(10,10))\n",
    "barlist = plt.bar([x for x in range(len(importance))], importance, color = \"green\")\n",
    "barlist[26].set_color('purple')\n",
    "plt.xticks(ticks=range(27), labels=column_names, rotation=\"vertical\", fontsize=13)\n",
    "plt.ylabel(\"Importance\", fontsize=15)\n",
    "plt.xlabel(\"Features\", fontsize=15)\n",
    "plt.savefig('importance.png', bbox_inches=\"tight\")\n",
    "plt.show()"
   ]
  }
 ],
 "metadata": {
  "colab": {
   "collapsed_sections": [],
   "name": "Gokalp_Model_Deneyleri.ipynb",
   "provenance": []
  },
  "kernelspec": {
   "display_name": "Python 3 (ipykernel)",
   "language": "python",
   "name": "python3"
  },
  "language_info": {
   "codemirror_mode": {
    "name": "ipython",
    "version": 3
   },
   "file_extension": ".py",
   "mimetype": "text/x-python",
   "name": "python",
   "nbconvert_exporter": "python",
   "pygments_lexer": "ipython3",
   "version": "3.9.7"
  }
 },
 "nbformat": 4,
 "nbformat_minor": 1
}
